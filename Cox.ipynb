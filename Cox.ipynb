{
  "nbformat": 4,
  "nbformat_minor": 0,
  "metadata": {
    "colab": {
      "name": "Cox.ipynb",
      "provenance": []
    },
    "kernelspec": {
      "name": "python3",
      "display_name": "Python 3"
    },
    "language_info": {
      "name": "python"
    }
  },
  "cells": [
    {
      "cell_type": "code",
      "execution_count": 2,
      "metadata": {
        "colab": {
          "base_uri": "https://localhost:8080/"
        },
        "id": "w5KMS2L2_28T",
        "outputId": "c5c91fd7-dea2-44ad-9cd3-6a8c95ae203f"
      },
      "outputs": [
        {
          "output_type": "stream",
          "name": "stdout",
          "text": [
            "Requirement already satisfied: scikit-survival in /usr/local/lib/python3.7/dist-packages (0.17.2)\n",
            "Requirement already satisfied: numpy in /usr/local/lib/python3.7/dist-packages (from scikit-survival) (1.21.6)\n",
            "Requirement already satisfied: ecos in /usr/local/lib/python3.7/dist-packages (from scikit-survival) (2.0.10)\n",
            "Requirement already satisfied: osqp!=0.6.0,!=0.6.1 in /usr/local/lib/python3.7/dist-packages (from scikit-survival) (0.6.2.post0)\n",
            "Requirement already satisfied: pandas>=0.25 in /usr/local/lib/python3.7/dist-packages (from scikit-survival) (1.3.5)\n",
            "Requirement already satisfied: scikit-learn<1.1,>=1.0.0 in /usr/local/lib/python3.7/dist-packages (from scikit-survival) (1.0.2)\n",
            "Requirement already satisfied: joblib in /usr/local/lib/python3.7/dist-packages (from scikit-survival) (1.1.0)\n",
            "Requirement already satisfied: numexpr in /usr/local/lib/python3.7/dist-packages (from scikit-survival) (2.8.1)\n",
            "Requirement already satisfied: scipy!=1.3.0,>=1.0 in /usr/local/lib/python3.7/dist-packages (from scikit-survival) (1.4.1)\n",
            "Requirement already satisfied: qdldl in /usr/local/lib/python3.7/dist-packages (from osqp!=0.6.0,!=0.6.1->scikit-survival) (0.1.5.post2)\n",
            "Requirement already satisfied: pytz>=2017.3 in /usr/local/lib/python3.7/dist-packages (from pandas>=0.25->scikit-survival) (2022.1)\n",
            "Requirement already satisfied: python-dateutil>=2.7.3 in /usr/local/lib/python3.7/dist-packages (from pandas>=0.25->scikit-survival) (2.8.2)\n",
            "Requirement already satisfied: six>=1.5 in /usr/local/lib/python3.7/dist-packages (from python-dateutil>=2.7.3->pandas>=0.25->scikit-survival) (1.15.0)\n",
            "Requirement already satisfied: threadpoolctl>=2.0.0 in /usr/local/lib/python3.7/dist-packages (from scikit-learn<1.1,>=1.0.0->scikit-survival) (3.1.0)\n",
            "Requirement already satisfied: packaging in /usr/local/lib/python3.7/dist-packages (from numexpr->scikit-survival) (21.3)\n",
            "Requirement already satisfied: pyparsing!=3.0.5,>=2.0.2 in /usr/local/lib/python3.7/dist-packages (from packaging->numexpr->scikit-survival) (3.0.8)\n",
            "Collecting lifelines\n",
            "  Downloading lifelines-0.27.0-py3-none-any.whl (349 kB)\n",
            "\u001b[K     |████████████████████████████████| 349 kB 5.0 MB/s \n",
            "\u001b[?25hRequirement already satisfied: pandas>=1.0.0 in /usr/local/lib/python3.7/dist-packages (from lifelines) (1.3.5)\n",
            "Collecting autograd-gamma>=0.3\n",
            "  Downloading autograd-gamma-0.5.0.tar.gz (4.0 kB)\n",
            "Requirement already satisfied: numpy>=1.14.0 in /usr/local/lib/python3.7/dist-packages (from lifelines) (1.21.6)\n",
            "Collecting formulaic>=0.2.2\n",
            "  Downloading formulaic-0.3.4-py3-none-any.whl (68 kB)\n",
            "\u001b[K     |████████████████████████████████| 68 kB 6.0 MB/s \n",
            "\u001b[?25hRequirement already satisfied: scipy>=1.2.0 in /usr/local/lib/python3.7/dist-packages (from lifelines) (1.4.1)\n",
            "Requirement already satisfied: autograd>=1.3 in /usr/local/lib/python3.7/dist-packages (from lifelines) (1.4)\n",
            "Requirement already satisfied: matplotlib>=3.0 in /usr/local/lib/python3.7/dist-packages (from lifelines) (3.2.2)\n",
            "Requirement already satisfied: future>=0.15.2 in /usr/local/lib/python3.7/dist-packages (from autograd>=1.3->lifelines) (0.16.0)\n",
            "Requirement already satisfied: wrapt>=1.0 in /usr/local/lib/python3.7/dist-packages (from formulaic>=0.2.2->lifelines) (1.14.0)\n",
            "Collecting interface-meta<2.0.0,>=1.2.0\n",
            "  Downloading interface_meta-1.3.0-py3-none-any.whl (14 kB)\n",
            "Collecting scipy>=1.2.0\n",
            "  Downloading scipy-1.7.3-cp37-cp37m-manylinux_2_12_x86_64.manylinux2010_x86_64.whl (38.1 MB)\n",
            "\u001b[K     |████████████████████████████████| 38.1 MB 57.3 MB/s \n",
            "\u001b[?25hRequirement already satisfied: astor>=0.8 in /usr/local/lib/python3.7/dist-packages (from formulaic>=0.2.2->lifelines) (0.8.1)\n",
            "Requirement already satisfied: python-dateutil>=2.1 in /usr/local/lib/python3.7/dist-packages (from matplotlib>=3.0->lifelines) (2.8.2)\n",
            "Requirement already satisfied: kiwisolver>=1.0.1 in /usr/local/lib/python3.7/dist-packages (from matplotlib>=3.0->lifelines) (1.4.2)\n",
            "Requirement already satisfied: pyparsing!=2.0.4,!=2.1.2,!=2.1.6,>=2.0.1 in /usr/local/lib/python3.7/dist-packages (from matplotlib>=3.0->lifelines) (3.0.8)\n",
            "Requirement already satisfied: cycler>=0.10 in /usr/local/lib/python3.7/dist-packages (from matplotlib>=3.0->lifelines) (0.11.0)\n",
            "Requirement already satisfied: typing-extensions in /usr/local/lib/python3.7/dist-packages (from kiwisolver>=1.0.1->matplotlib>=3.0->lifelines) (4.2.0)\n",
            "Requirement already satisfied: pytz>=2017.3 in /usr/local/lib/python3.7/dist-packages (from pandas>=1.0.0->lifelines) (2022.1)\n",
            "Requirement already satisfied: six>=1.5 in /usr/local/lib/python3.7/dist-packages (from python-dateutil>=2.1->matplotlib>=3.0->lifelines) (1.15.0)\n",
            "Building wheels for collected packages: autograd-gamma\n",
            "  Building wheel for autograd-gamma (setup.py) ... \u001b[?25l\u001b[?25hdone\n",
            "  Created wheel for autograd-gamma: filename=autograd_gamma-0.5.0-py3-none-any.whl size=4048 sha256=ad898163245860cc7912fee40ff1cbcdf317b32aba88e0017792c016d02fddb0\n",
            "  Stored in directory: /root/.cache/pip/wheels/9f/01/ee/1331593abb5725ff7d8c1333aee93a50a1c29d6ddda9665c9f\n",
            "Successfully built autograd-gamma\n",
            "Installing collected packages: scipy, interface-meta, formulaic, autograd-gamma, lifelines\n",
            "  Attempting uninstall: scipy\n",
            "    Found existing installation: scipy 1.4.1\n",
            "    Uninstalling scipy-1.4.1:\n",
            "      Successfully uninstalled scipy-1.4.1\n",
            "\u001b[31mERROR: pip's dependency resolver does not currently take into account all the packages that are installed. This behaviour is the source of the following dependency conflicts.\n",
            "albumentations 0.1.12 requires imgaug<0.2.7,>=0.2.5, but you have imgaug 0.2.9 which is incompatible.\u001b[0m\n",
            "Successfully installed autograd-gamma-0.5.0 formulaic-0.3.4 interface-meta-1.3.0 lifelines-0.27.0 scipy-1.7.3\n"
          ]
        }
      ],
      "source": [
        "!pip install scikit-survival\n",
        "!pip install lifelines"
      ]
    },
    {
      "cell_type": "code",
      "source": [
        "import pandas as pd\n",
        "from lifelines import KaplanMeierFitter\n",
        "import numpy as np"
      ],
      "metadata": {
        "id": "qBHSHB2RExkq"
      },
      "execution_count": 5,
      "outputs": []
    },
    {
      "cell_type": "code",
      "source": [
        "# Sometimes it works when ran twice\n",
        "\n",
        "import sksurv\n",
        "import sksurv.datasets"
      ],
      "metadata": {
        "id": "HRwcPbtWEzVU"
      },
      "execution_count": 8,
      "outputs": []
    },
    {
      "cell_type": "code",
      "source": [
        "'''\n",
        "Variable \tName\t\tDescription\t\t\t                Codes / Values\n",
        "*******************************************************************************************************\n",
        "1\t\t     id\t\t    Identification Number\t\t\t    1 - 500\n",
        "2\t\t    age\t\t    Age at Hospital Admission\t\t    Years\n",
        "3 \t    \tgender\t\tGender \t\t\t\t\t            0 = Male, 1 = Female\n",
        "4    \t\thr\t\t    Initial Heart Rate\t\t\t        Beats per minute\n",
        "5\t\t    sysbp\t\tInitial Systolic Blood Pressure \tmmHg\n",
        "6\t    \tdiasbp\t\tInitial Diastolic Blood Pressure\tmmHg\n",
        "7    \t\tbmi\t\t    Body Mass Index\t\t\t \t        kg/m^2\n",
        "8\t\t    cvd\t\t    History of Cardiovascular Disease\t0 = No, 1 = Yes\t\t\t\t\t\t\n",
        "9\t\t    afb\t\t    Atrial Fibrillation\t\t\t        0 = No, 1 = Yes\t\t\t\t\t\t\n",
        "10  \t\tsho\t\t    Cardiogenic Shock\t\t\t        0 = No, 1 = Yes\t\t\t\t\t\t\n",
        "11  \t\tchf\t\t    Congestive Heart Complications\t\t0 = No, 1 = Yes\t\t\t\t\t\t\n",
        "12  \t\tav3\t\t    Complete Heart Block\t\t\t    0 = No, 1 = Yes\t\t\t\t\n",
        "13  \t\tmiord\t\tMI Order \t\t\t\t            0 = First, 1 = Recurrent\n",
        "14  \t\tmitype\t\tMI Type \t\t\t\t            0 = non Q-wave, 1 = Q-wave\n",
        "15  \t\tyear\t\tCohort Year\t\t\t\t            1 = 1997, 2 = 1999, 3 = 2001\t\t\t\t\n",
        "16  \t\tadmitdate\tHospital Admission Date \t\t    mm/dd/yyyy\n",
        "17  \t\tdisdate\t\tHospital Discharge Date \t\t    mm/dd/yyyy\n",
        "18  \t\tfdate\t\tDate of last Follow Up \t\t\t    mm/dd/yyyy\n",
        "19  \t\tlos\t\t    Length of Hospital Stay\t\t\t    Days from Hospital Admission\n",
        "\t\t\t\t\t\t\t\t \t                            to Hospital Discharge\n",
        "20 \t    \tdstat\t\tDischarge Status from Hospital\t\t0 = Alive, 1 = Dead\n",
        "21\t    \tlenfol\t\tTotal Length of Follow-up\t\t    Days from Hospital Admission Date\n",
        "\t\t\t\t\t\t\t\t\t                            to Date of Last Follow-up \n",
        "22\t    \tevent\t\tVital Status at Last Follow-up\t\t0 = Alive 1 = Dead\n",
        "'''"
      ],
      "metadata": {
        "colab": {
          "base_uri": "https://localhost:8080/",
          "height": 105
        },
        "id": "hlDKwbJaFyOV",
        "outputId": "03ab6953-9a28-4bd6-8a58-412be35173c0"
      },
      "execution_count": 13,
      "outputs": [
        {
          "output_type": "execute_result",
          "data": {
            "text/plain": [
              "'\\nVariable \\tName\\t\\tDescription\\t\\t\\t                Codes / Values\\n*******************************************************************************************************\\n1\\t\\t     id\\t\\t    Identification Number\\t\\t\\t    1 - 500\\n2\\t\\t    age\\t\\t    Age at Hospital Admission\\t\\t    Years\\n3 \\t    \\tgender\\t\\tGender \\t\\t\\t\\t\\t            0 = Male, 1 = Female\\n4    \\t\\thr\\t\\t    Initial Heart Rate\\t\\t\\t        Beats per minute\\n5\\t\\t    sysbp\\t\\tInitial Systolic Blood Pressure \\tmmHg\\n6\\t    \\tdiasbp\\t\\tInitial Diastolic Blood Pressure\\tmmHg\\n7    \\t\\tbmi\\t\\t    Body Mass Index\\t\\t\\t \\t        kg/m^2\\n8\\t\\t    cvd\\t\\t    History of Cardiovascular Disease\\t0 = No, 1 = Yes\\t\\t\\t\\t\\t\\t\\n9\\t\\t    afb\\t\\t    Atrial Fibrillation\\t\\t\\t        0 = No, 1 = Yes\\t\\t\\t\\t\\t\\t\\n10  \\t\\tsho\\t\\t    Cardiogenic Shock\\t\\t\\t        0 = No, 1 = Yes\\t\\t\\t\\t\\t\\t\\n11  \\t\\tchf\\t\\t    Congestive Heart Complications\\t\\t0 = No, 1 = Yes\\t\\t\\t\\t\\t\\t\\n12  \\t\\tav3\\t\\t    Complete Heart Block\\t\\t\\t    0 = No, 1 = Yes\\t\\t\\t\\t\\n13  \\t\\tmiord\\t\\tMI Order \\t\\t\\t\\t            0 = First, 1 = Recurrent\\n14  \\t\\tmitype\\t\\tMI Type \\t\\t\\t\\t            0 = non Q-wave, 1 = Q-wave\\n15  \\t\\tyear\\t\\tCohort Year\\t\\t\\t\\t            1 = 1997, 2 = 1999, 3 = 2001\\t\\t\\t\\t\\n16  \\t\\tadmitdate\\tHospital Admission Date \\t\\t    mm/dd/yyyy\\n17  \\t\\tdisdate\\t\\tHospital Discharge Date \\t\\t    mm/dd/yyyy\\n18  \\t\\tfdate\\t\\tDate of last Follow Up \\t\\t\\t    mm/dd/yyyy\\n19  \\t\\tlos\\t\\t    Length of Hospital Stay\\t\\t\\t    Days from Hospital Admission\\n\\t\\t\\t\\t\\t\\t\\t\\t \\t                            to Hospital Discharge\\n20 \\t    \\tdstat\\t\\tDischarge Status from Hospital\\t\\t0 = Alive, 1 = Dead\\n21\\t    \\tlenfol\\t\\tTotal Length of Follow-up\\t\\t    Days from Hospital Admission Date\\n\\t\\t\\t\\t\\t\\t\\t\\t\\t                            to Date of Last Follow-up \\n22\\t    \\tfstat\\t\\tVital Status at Last Follow-up\\t\\t0 = Alive 1 = Dead\\n'"
            ],
            "application/vnd.google.colaboratory.intrinsic+json": {
              "type": "string"
            }
          },
          "metadata": {},
          "execution_count": 13
        }
      ]
    },
    {
      "cell_type": "code",
      "source": [
        "# load data\n",
        "data, labels = sksurv.datasets.load_whas500()"
      ],
      "metadata": {
        "id": "LRzNR7UHEz4k"
      },
      "execution_count": 15,
      "outputs": []
    },
    {
      "cell_type": "code",
      "source": [
        "data = data.astype(np.int32)\n",
        "print(data.columns)"
      ],
      "metadata": {
        "colab": {
          "base_uri": "https://localhost:8080/"
        },
        "id": "VQAqZ80ME0U8",
        "outputId": "b90c4b36-d93e-449d-fca9-21b5d0d7607d"
      },
      "execution_count": 16,
      "outputs": [
        {
          "output_type": "stream",
          "name": "stdout",
          "text": [
            "Index(['afb', 'age', 'av3', 'bmi', 'chf', 'cvd', 'diasbp', 'gender', 'hr',\n",
            "       'los', 'miord', 'mitype', 'sho', 'sysbp'],\n",
            "      dtype='object')\n"
          ]
        }
      ]
    },
    {
      "cell_type": "code",
      "source": [
        "# total admission date + total follow up days\n",
        "data['event'] = [label[0] for label in labels]\n",
        "# data['time'] = [x.days for x in data.time]\n",
        "\n",
        "data.head()"
      ],
      "metadata": {
        "colab": {
          "base_uri": "https://localhost:8080/",
          "height": 206
        },
        "id": "XgazL-5-E2dP",
        "outputId": "d3249682-1615-4691-f8ab-d8f76573e9a2"
      },
      "execution_count": 17,
      "outputs": [
        {
          "output_type": "execute_result",
          "data": {
            "text/plain": [
              "   afb  age  av3  bmi  chf  cvd  diasbp  gender  hr  los  miord  mitype  sho  \\\n",
              "0    1   83    0   25    0    1      78       0  89    5      1       0    0   \n",
              "1    0   49    0   24    0    1      60       0  84    5      0       1    0   \n",
              "2    0   70    0   22    0    0      88       1  83    5      0       1    0   \n",
              "3    0   70    0   26    1    1      76       0  65   10      0       1    0   \n",
              "4    0   70    0   24    0    1      85       0  63    6      0       1    0   \n",
              "\n",
              "   sysbp  event  \n",
              "0    152  False  \n",
              "1    120  False  \n",
              "2    147  False  \n",
              "3    123   True  \n",
              "4    135  False  "
            ],
            "text/html": [
              "\n",
              "  <div id=\"df-17da5687-4558-4a41-ac9c-4240048a7358\">\n",
              "    <div class=\"colab-df-container\">\n",
              "      <div>\n",
              "<style scoped>\n",
              "    .dataframe tbody tr th:only-of-type {\n",
              "        vertical-align: middle;\n",
              "    }\n",
              "\n",
              "    .dataframe tbody tr th {\n",
              "        vertical-align: top;\n",
              "    }\n",
              "\n",
              "    .dataframe thead th {\n",
              "        text-align: right;\n",
              "    }\n",
              "</style>\n",
              "<table border=\"1\" class=\"dataframe\">\n",
              "  <thead>\n",
              "    <tr style=\"text-align: right;\">\n",
              "      <th></th>\n",
              "      <th>afb</th>\n",
              "      <th>age</th>\n",
              "      <th>av3</th>\n",
              "      <th>bmi</th>\n",
              "      <th>chf</th>\n",
              "      <th>cvd</th>\n",
              "      <th>diasbp</th>\n",
              "      <th>gender</th>\n",
              "      <th>hr</th>\n",
              "      <th>los</th>\n",
              "      <th>miord</th>\n",
              "      <th>mitype</th>\n",
              "      <th>sho</th>\n",
              "      <th>sysbp</th>\n",
              "      <th>event</th>\n",
              "    </tr>\n",
              "  </thead>\n",
              "  <tbody>\n",
              "    <tr>\n",
              "      <th>0</th>\n",
              "      <td>1</td>\n",
              "      <td>83</td>\n",
              "      <td>0</td>\n",
              "      <td>25</td>\n",
              "      <td>0</td>\n",
              "      <td>1</td>\n",
              "      <td>78</td>\n",
              "      <td>0</td>\n",
              "      <td>89</td>\n",
              "      <td>5</td>\n",
              "      <td>1</td>\n",
              "      <td>0</td>\n",
              "      <td>0</td>\n",
              "      <td>152</td>\n",
              "      <td>False</td>\n",
              "    </tr>\n",
              "    <tr>\n",
              "      <th>1</th>\n",
              "      <td>0</td>\n",
              "      <td>49</td>\n",
              "      <td>0</td>\n",
              "      <td>24</td>\n",
              "      <td>0</td>\n",
              "      <td>1</td>\n",
              "      <td>60</td>\n",
              "      <td>0</td>\n",
              "      <td>84</td>\n",
              "      <td>5</td>\n",
              "      <td>0</td>\n",
              "      <td>1</td>\n",
              "      <td>0</td>\n",
              "      <td>120</td>\n",
              "      <td>False</td>\n",
              "    </tr>\n",
              "    <tr>\n",
              "      <th>2</th>\n",
              "      <td>0</td>\n",
              "      <td>70</td>\n",
              "      <td>0</td>\n",
              "      <td>22</td>\n",
              "      <td>0</td>\n",
              "      <td>0</td>\n",
              "      <td>88</td>\n",
              "      <td>1</td>\n",
              "      <td>83</td>\n",
              "      <td>5</td>\n",
              "      <td>0</td>\n",
              "      <td>1</td>\n",
              "      <td>0</td>\n",
              "      <td>147</td>\n",
              "      <td>False</td>\n",
              "    </tr>\n",
              "    <tr>\n",
              "      <th>3</th>\n",
              "      <td>0</td>\n",
              "      <td>70</td>\n",
              "      <td>0</td>\n",
              "      <td>26</td>\n",
              "      <td>1</td>\n",
              "      <td>1</td>\n",
              "      <td>76</td>\n",
              "      <td>0</td>\n",
              "      <td>65</td>\n",
              "      <td>10</td>\n",
              "      <td>0</td>\n",
              "      <td>1</td>\n",
              "      <td>0</td>\n",
              "      <td>123</td>\n",
              "      <td>True</td>\n",
              "    </tr>\n",
              "    <tr>\n",
              "      <th>4</th>\n",
              "      <td>0</td>\n",
              "      <td>70</td>\n",
              "      <td>0</td>\n",
              "      <td>24</td>\n",
              "      <td>0</td>\n",
              "      <td>1</td>\n",
              "      <td>85</td>\n",
              "      <td>0</td>\n",
              "      <td>63</td>\n",
              "      <td>6</td>\n",
              "      <td>0</td>\n",
              "      <td>1</td>\n",
              "      <td>0</td>\n",
              "      <td>135</td>\n",
              "      <td>False</td>\n",
              "    </tr>\n",
              "  </tbody>\n",
              "</table>\n",
              "</div>\n",
              "      <button class=\"colab-df-convert\" onclick=\"convertToInteractive('df-17da5687-4558-4a41-ac9c-4240048a7358')\"\n",
              "              title=\"Convert this dataframe to an interactive table.\"\n",
              "              style=\"display:none;\">\n",
              "        \n",
              "  <svg xmlns=\"http://www.w3.org/2000/svg\" height=\"24px\"viewBox=\"0 0 24 24\"\n",
              "       width=\"24px\">\n",
              "    <path d=\"M0 0h24v24H0V0z\" fill=\"none\"/>\n",
              "    <path d=\"M18.56 5.44l.94 2.06.94-2.06 2.06-.94-2.06-.94-.94-2.06-.94 2.06-2.06.94zm-11 1L8.5 8.5l.94-2.06 2.06-.94-2.06-.94L8.5 2.5l-.94 2.06-2.06.94zm10 10l.94 2.06.94-2.06 2.06-.94-2.06-.94-.94-2.06-.94 2.06-2.06.94z\"/><path d=\"M17.41 7.96l-1.37-1.37c-.4-.4-.92-.59-1.43-.59-.52 0-1.04.2-1.43.59L10.3 9.45l-7.72 7.72c-.78.78-.78 2.05 0 2.83L4 21.41c.39.39.9.59 1.41.59.51 0 1.02-.2 1.41-.59l7.78-7.78 2.81-2.81c.8-.78.8-2.07 0-2.86zM5.41 20L4 18.59l7.72-7.72 1.47 1.35L5.41 20z\"/>\n",
              "  </svg>\n",
              "      </button>\n",
              "      \n",
              "  <style>\n",
              "    .colab-df-container {\n",
              "      display:flex;\n",
              "      flex-wrap:wrap;\n",
              "      gap: 12px;\n",
              "    }\n",
              "\n",
              "    .colab-df-convert {\n",
              "      background-color: #E8F0FE;\n",
              "      border: none;\n",
              "      border-radius: 50%;\n",
              "      cursor: pointer;\n",
              "      display: none;\n",
              "      fill: #1967D2;\n",
              "      height: 32px;\n",
              "      padding: 0 0 0 0;\n",
              "      width: 32px;\n",
              "    }\n",
              "\n",
              "    .colab-df-convert:hover {\n",
              "      background-color: #E2EBFA;\n",
              "      box-shadow: 0px 1px 2px rgba(60, 64, 67, 0.3), 0px 1px 3px 1px rgba(60, 64, 67, 0.15);\n",
              "      fill: #174EA6;\n",
              "    }\n",
              "\n",
              "    [theme=dark] .colab-df-convert {\n",
              "      background-color: #3B4455;\n",
              "      fill: #D2E3FC;\n",
              "    }\n",
              "\n",
              "    [theme=dark] .colab-df-convert:hover {\n",
              "      background-color: #434B5C;\n",
              "      box-shadow: 0px 1px 3px 1px rgba(0, 0, 0, 0.15);\n",
              "      filter: drop-shadow(0px 1px 2px rgba(0, 0, 0, 0.3));\n",
              "      fill: #FFFFFF;\n",
              "    }\n",
              "  </style>\n",
              "\n",
              "      <script>\n",
              "        const buttonEl =\n",
              "          document.querySelector('#df-17da5687-4558-4a41-ac9c-4240048a7358 button.colab-df-convert');\n",
              "        buttonEl.style.display =\n",
              "          google.colab.kernel.accessAllowed ? 'block' : 'none';\n",
              "\n",
              "        async function convertToInteractive(key) {\n",
              "          const element = document.querySelector('#df-17da5687-4558-4a41-ac9c-4240048a7358');\n",
              "          const dataTable =\n",
              "            await google.colab.kernel.invokeFunction('convertToInteractive',\n",
              "                                                     [key], {});\n",
              "          if (!dataTable) return;\n",
              "\n",
              "          const docLinkHtml = 'Like what you see? Visit the ' +\n",
              "            '<a target=\"_blank\" href=https://colab.research.google.com/notebooks/data_table.ipynb>data table notebook</a>'\n",
              "            + ' to learn more about interactive tables.';\n",
              "          element.innerHTML = '';\n",
              "          dataTable['output_type'] = 'display_data';\n",
              "          await google.colab.output.renderOutput(dataTable, element);\n",
              "          const docLink = document.createElement('div');\n",
              "          docLink.innerHTML = docLinkHtml;\n",
              "          element.appendChild(docLink);\n",
              "        }\n",
              "      </script>\n",
              "    </div>\n",
              "  </div>\n",
              "  "
            ]
          },
          "metadata": {},
          "execution_count": 17
        }
      ]
    },
    {
      "cell_type": "code",
      "source": [
        "from lifelines import CoxPHFitter\n",
        "\n",
        "cph = CoxPHFitter()\n",
        "\n",
        "cph.fit(data, \"los\", event_col=\"event\")\n",
        "cph.print_summary()"
      ],
      "metadata": {
        "colab": {
          "base_uri": "https://localhost:8080/",
          "height": 851
        },
        "id": "ppLLnJwGE307",
        "outputId": "ecd2501e-61a6-4a40-c973-d2c4b1a3a082"
      },
      "execution_count": 18,
      "outputs": [
        {
          "output_type": "display_data",
          "data": {
            "text/plain": [
              "<lifelines.CoxPHFitter: fitted with 500 total observations, 285 right-censored observations>\n",
              "             duration col = 'los'\n",
              "                event col = 'event'\n",
              "      baseline estimation = breslow\n",
              "   number of observations = 500\n",
              "number of events observed = 215\n",
              "   partial log-likelihood = -1056.94\n",
              "         time fit was run = 2022-05-13 20:28:04 UTC\n",
              "\n",
              "---\n",
              "            coef  exp(coef)   se(coef)   coef lower 95%   coef upper 95%  exp(coef) lower 95%  exp(coef) upper 95%\n",
              "covariate                                                                                                         \n",
              "afb        -0.41       0.66       0.18            -0.75            -0.06                 0.47                 0.94\n",
              "age         0.05       1.05       0.01             0.03             0.06                 1.03                 1.07\n",
              "av3         0.59       1.80       0.41            -0.22             1.39                 0.80                 4.03\n",
              "bmi        -0.02       0.98       0.02            -0.05             0.01                 0.96                 1.01\n",
              "chf         0.36       1.44       0.15             0.08             0.65                 1.08                 1.91\n",
              "cvd        -0.10       0.90       0.18            -0.47             0.26                 0.63                 1.29\n",
              "diasbp     -0.01       0.99       0.00            -0.02             0.00                 0.98                 1.00\n",
              "gender     -0.23       0.79       0.14            -0.52             0.05                 0.60                 1.05\n",
              "hr          0.01       1.01       0.00             0.00             0.01                 1.00                 1.01\n",
              "miord       0.17       1.19       0.15            -0.11             0.46                 0.89                 1.59\n",
              "mitype     -0.29       0.75       0.19            -0.65             0.08                 0.52                 1.09\n",
              "sho        -0.11       0.90       0.27            -0.63             0.42                 0.53                 1.52\n",
              "sysbp       0.00       1.00       0.00            -0.00             0.01                 1.00                 1.01\n",
              "\n",
              "            cmp to     z      p   -log2(p)\n",
              "covariate                                 \n",
              "afb           0.00 -2.32   0.02       5.62\n",
              "age           0.00  6.48 <0.005      33.39\n",
              "av3           0.00  1.42   0.15       2.69\n",
              "bmi           0.00 -1.03   0.30       1.73\n",
              "chf           0.00  2.49   0.01       6.30\n",
              "cvd           0.00 -0.57   0.57       0.81\n",
              "diasbp        0.00 -1.74   0.08       3.61\n",
              "gender        0.00 -1.61   0.11       3.22\n",
              "hr            0.00  2.05   0.04       4.64\n",
              "miord         0.00  1.19   0.24       2.08\n",
              "mitype        0.00 -1.52   0.13       2.96\n",
              "sho           0.00 -0.40   0.69       0.53\n",
              "sysbp         0.00  0.95   0.34       1.55\n",
              "---\n",
              "Concordance = 0.72\n",
              "Partial AIC = 2139.89\n",
              "log-likelihood ratio test = 111.84 on 13 df\n",
              "-log2(p) of ll-ratio test = 56.77"
            ],
            "text/html": [
              "<div>\n",
              "<style scoped>\n",
              "    .dataframe tbody tr th:only-of-type {\n",
              "        vertical-align: middle;\n",
              "    }\n",
              "\n",
              "    .dataframe tbody tr th {\n",
              "        vertical-align: top;\n",
              "    }\n",
              "\n",
              "    .dataframe thead th {\n",
              "        text-align: right;\n",
              "    }\n",
              "</style>\n",
              "<table border=\"1\" class=\"dataframe\">\n",
              "  <tbody>\n",
              "    <tr>\n",
              "      <th>model</th>\n",
              "      <td>lifelines.CoxPHFitter</td>\n",
              "    </tr>\n",
              "    <tr>\n",
              "      <th>duration col</th>\n",
              "      <td>'los'</td>\n",
              "    </tr>\n",
              "    <tr>\n",
              "      <th>event col</th>\n",
              "      <td>'event'</td>\n",
              "    </tr>\n",
              "    <tr>\n",
              "      <th>baseline estimation</th>\n",
              "      <td>breslow</td>\n",
              "    </tr>\n",
              "    <tr>\n",
              "      <th>number of observations</th>\n",
              "      <td>500</td>\n",
              "    </tr>\n",
              "    <tr>\n",
              "      <th>number of events observed</th>\n",
              "      <td>215</td>\n",
              "    </tr>\n",
              "    <tr>\n",
              "      <th>partial log-likelihood</th>\n",
              "      <td>-1056.94</td>\n",
              "    </tr>\n",
              "    <tr>\n",
              "      <th>time fit was run</th>\n",
              "      <td>2022-05-13 20:28:04 UTC</td>\n",
              "    </tr>\n",
              "  </tbody>\n",
              "</table>\n",
              "</div><table border=\"1\" class=\"dataframe\">\n",
              "  <thead>\n",
              "    <tr style=\"text-align: right;\">\n",
              "      <th style=\"min-width: 12px;\"></th>\n",
              "      <th style=\"min-width: 12px;\">coef</th>\n",
              "      <th style=\"min-width: 12px;\">exp(coef)</th>\n",
              "      <th style=\"min-width: 12px;\">se(coef)</th>\n",
              "      <th style=\"min-width: 12px;\">coef lower 95%</th>\n",
              "      <th style=\"min-width: 12px;\">coef upper 95%</th>\n",
              "      <th style=\"min-width: 12px;\">exp(coef) lower 95%</th>\n",
              "      <th style=\"min-width: 12px;\">exp(coef) upper 95%</th>\n",
              "      <th style=\"min-width: 12px;\">cmp to</th>\n",
              "      <th style=\"min-width: 12px;\">z</th>\n",
              "      <th style=\"min-width: 12px;\">p</th>\n",
              "      <th style=\"min-width: 12px;\">-log2(p)</th>\n",
              "    </tr>\n",
              "  </thead>\n",
              "  <tbody>\n",
              "    <tr>\n",
              "      <th>afb</th>\n",
              "      <td>-0.41</td>\n",
              "      <td>0.66</td>\n",
              "      <td>0.18</td>\n",
              "      <td>-0.75</td>\n",
              "      <td>-0.06</td>\n",
              "      <td>0.47</td>\n",
              "      <td>0.94</td>\n",
              "      <td>0.00</td>\n",
              "      <td>-2.32</td>\n",
              "      <td>0.02</td>\n",
              "      <td>5.62</td>\n",
              "    </tr>\n",
              "    <tr>\n",
              "      <th>age</th>\n",
              "      <td>0.05</td>\n",
              "      <td>1.05</td>\n",
              "      <td>0.01</td>\n",
              "      <td>0.03</td>\n",
              "      <td>0.06</td>\n",
              "      <td>1.03</td>\n",
              "      <td>1.07</td>\n",
              "      <td>0.00</td>\n",
              "      <td>6.48</td>\n",
              "      <td>&lt;0.005</td>\n",
              "      <td>33.39</td>\n",
              "    </tr>\n",
              "    <tr>\n",
              "      <th>av3</th>\n",
              "      <td>0.59</td>\n",
              "      <td>1.80</td>\n",
              "      <td>0.41</td>\n",
              "      <td>-0.22</td>\n",
              "      <td>1.39</td>\n",
              "      <td>0.80</td>\n",
              "      <td>4.03</td>\n",
              "      <td>0.00</td>\n",
              "      <td>1.42</td>\n",
              "      <td>0.15</td>\n",
              "      <td>2.69</td>\n",
              "    </tr>\n",
              "    <tr>\n",
              "      <th>bmi</th>\n",
              "      <td>-0.02</td>\n",
              "      <td>0.98</td>\n",
              "      <td>0.02</td>\n",
              "      <td>-0.05</td>\n",
              "      <td>0.01</td>\n",
              "      <td>0.96</td>\n",
              "      <td>1.01</td>\n",
              "      <td>0.00</td>\n",
              "      <td>-1.03</td>\n",
              "      <td>0.30</td>\n",
              "      <td>1.73</td>\n",
              "    </tr>\n",
              "    <tr>\n",
              "      <th>chf</th>\n",
              "      <td>0.36</td>\n",
              "      <td>1.44</td>\n",
              "      <td>0.15</td>\n",
              "      <td>0.08</td>\n",
              "      <td>0.65</td>\n",
              "      <td>1.08</td>\n",
              "      <td>1.91</td>\n",
              "      <td>0.00</td>\n",
              "      <td>2.49</td>\n",
              "      <td>0.01</td>\n",
              "      <td>6.30</td>\n",
              "    </tr>\n",
              "    <tr>\n",
              "      <th>cvd</th>\n",
              "      <td>-0.10</td>\n",
              "      <td>0.90</td>\n",
              "      <td>0.18</td>\n",
              "      <td>-0.47</td>\n",
              "      <td>0.26</td>\n",
              "      <td>0.63</td>\n",
              "      <td>1.29</td>\n",
              "      <td>0.00</td>\n",
              "      <td>-0.57</td>\n",
              "      <td>0.57</td>\n",
              "      <td>0.81</td>\n",
              "    </tr>\n",
              "    <tr>\n",
              "      <th>diasbp</th>\n",
              "      <td>-0.01</td>\n",
              "      <td>0.99</td>\n",
              "      <td>0.00</td>\n",
              "      <td>-0.02</td>\n",
              "      <td>0.00</td>\n",
              "      <td>0.98</td>\n",
              "      <td>1.00</td>\n",
              "      <td>0.00</td>\n",
              "      <td>-1.74</td>\n",
              "      <td>0.08</td>\n",
              "      <td>3.61</td>\n",
              "    </tr>\n",
              "    <tr>\n",
              "      <th>gender</th>\n",
              "      <td>-0.23</td>\n",
              "      <td>0.79</td>\n",
              "      <td>0.14</td>\n",
              "      <td>-0.52</td>\n",
              "      <td>0.05</td>\n",
              "      <td>0.60</td>\n",
              "      <td>1.05</td>\n",
              "      <td>0.00</td>\n",
              "      <td>-1.61</td>\n",
              "      <td>0.11</td>\n",
              "      <td>3.22</td>\n",
              "    </tr>\n",
              "    <tr>\n",
              "      <th>hr</th>\n",
              "      <td>0.01</td>\n",
              "      <td>1.01</td>\n",
              "      <td>0.00</td>\n",
              "      <td>0.00</td>\n",
              "      <td>0.01</td>\n",
              "      <td>1.00</td>\n",
              "      <td>1.01</td>\n",
              "      <td>0.00</td>\n",
              "      <td>2.05</td>\n",
              "      <td>0.04</td>\n",
              "      <td>4.64</td>\n",
              "    </tr>\n",
              "    <tr>\n",
              "      <th>miord</th>\n",
              "      <td>0.17</td>\n",
              "      <td>1.19</td>\n",
              "      <td>0.15</td>\n",
              "      <td>-0.11</td>\n",
              "      <td>0.46</td>\n",
              "      <td>0.89</td>\n",
              "      <td>1.59</td>\n",
              "      <td>0.00</td>\n",
              "      <td>1.19</td>\n",
              "      <td>0.24</td>\n",
              "      <td>2.08</td>\n",
              "    </tr>\n",
              "    <tr>\n",
              "      <th>mitype</th>\n",
              "      <td>-0.29</td>\n",
              "      <td>0.75</td>\n",
              "      <td>0.19</td>\n",
              "      <td>-0.65</td>\n",
              "      <td>0.08</td>\n",
              "      <td>0.52</td>\n",
              "      <td>1.09</td>\n",
              "      <td>0.00</td>\n",
              "      <td>-1.52</td>\n",
              "      <td>0.13</td>\n",
              "      <td>2.96</td>\n",
              "    </tr>\n",
              "    <tr>\n",
              "      <th>sho</th>\n",
              "      <td>-0.11</td>\n",
              "      <td>0.90</td>\n",
              "      <td>0.27</td>\n",
              "      <td>-0.63</td>\n",
              "      <td>0.42</td>\n",
              "      <td>0.53</td>\n",
              "      <td>1.52</td>\n",
              "      <td>0.00</td>\n",
              "      <td>-0.40</td>\n",
              "      <td>0.69</td>\n",
              "      <td>0.53</td>\n",
              "    </tr>\n",
              "    <tr>\n",
              "      <th>sysbp</th>\n",
              "      <td>0.00</td>\n",
              "      <td>1.00</td>\n",
              "      <td>0.00</td>\n",
              "      <td>-0.00</td>\n",
              "      <td>0.01</td>\n",
              "      <td>1.00</td>\n",
              "      <td>1.01</td>\n",
              "      <td>0.00</td>\n",
              "      <td>0.95</td>\n",
              "      <td>0.34</td>\n",
              "      <td>1.55</td>\n",
              "    </tr>\n",
              "  </tbody>\n",
              "</table><br><div>\n",
              "<style scoped>\n",
              "    .dataframe tbody tr th:only-of-type {\n",
              "        vertical-align: middle;\n",
              "    }\n",
              "\n",
              "    .dataframe tbody tr th {\n",
              "        vertical-align: top;\n",
              "    }\n",
              "\n",
              "    .dataframe thead th {\n",
              "        text-align: right;\n",
              "    }\n",
              "</style>\n",
              "<table border=\"1\" class=\"dataframe\">\n",
              "  <tbody>\n",
              "    <tr>\n",
              "      <th>Concordance</th>\n",
              "      <td>0.72</td>\n",
              "    </tr>\n",
              "    <tr>\n",
              "      <th>Partial AIC</th>\n",
              "      <td>2139.89</td>\n",
              "    </tr>\n",
              "    <tr>\n",
              "      <th>log-likelihood ratio test</th>\n",
              "      <td>111.84 on 13 df</td>\n",
              "    </tr>\n",
              "    <tr>\n",
              "      <th>-log2(p) of ll-ratio test</th>\n",
              "      <td>56.77</td>\n",
              "    </tr>\n",
              "  </tbody>\n",
              "</table>\n",
              "</div>"
            ],
            "text/latex": "\\begin{tabular}{lrrrrrrrrrrr}\n\\toprule\n{} &  coef &  exp(coef) &  se(coef) &  coef lower 95\\% &  coef upper 95\\% &  exp(coef) lower 95\\% &  exp(coef) upper 95\\% &  cmp to &     z &    p &  -log2(p) \\\\\ncovariate &       &            &           &                 &                 &                      &                      &         &       &      &           \\\\\n\\midrule\nafb       & -0.41 &       0.66 &      0.18 &           -0.75 &           -0.06 &                 0.47 &                 0.94 &    0.00 & -2.32 & 0.02 &      5.62 \\\\\nage       &  0.05 &       1.05 &      0.01 &            0.03 &            0.06 &                 1.03 &                 1.07 &    0.00 &  6.48 & 0.00 &     33.39 \\\\\nav3       &  0.59 &       1.80 &      0.41 &           -0.22 &            1.39 &                 0.80 &                 4.03 &    0.00 &  1.42 & 0.15 &      2.69 \\\\\nbmi       & -0.02 &       0.98 &      0.02 &           -0.05 &            0.01 &                 0.96 &                 1.01 &    0.00 & -1.03 & 0.30 &      1.73 \\\\\nchf       &  0.36 &       1.44 &      0.15 &            0.08 &            0.65 &                 1.08 &                 1.91 &    0.00 &  2.49 & 0.01 &      6.30 \\\\\ncvd       & -0.10 &       0.90 &      0.18 &           -0.47 &            0.26 &                 0.63 &                 1.29 &    0.00 & -0.57 & 0.57 &      0.81 \\\\\ndiasbp    & -0.01 &       0.99 &      0.00 &           -0.02 &            0.00 &                 0.98 &                 1.00 &    0.00 & -1.74 & 0.08 &      3.61 \\\\\ngender    & -0.23 &       0.79 &      0.14 &           -0.52 &            0.05 &                 0.60 &                 1.05 &    0.00 & -1.61 & 0.11 &      3.22 \\\\\nhr        &  0.01 &       1.01 &      0.00 &            0.00 &            0.01 &                 1.00 &                 1.01 &    0.00 &  2.05 & 0.04 &      4.64 \\\\\nmiord     &  0.17 &       1.19 &      0.15 &           -0.11 &            0.46 &                 0.89 &                 1.59 &    0.00 &  1.19 & 0.24 &      2.08 \\\\\nmitype    & -0.29 &       0.75 &      0.19 &           -0.65 &            0.08 &                 0.52 &                 1.09 &    0.00 & -1.52 & 0.13 &      2.96 \\\\\nsho       & -0.11 &       0.90 &      0.27 &           -0.63 &            0.42 &                 0.53 &                 1.52 &    0.00 & -0.40 & 0.69 &      0.53 \\\\\nsysbp     &  0.00 &       1.00 &      0.00 &           -0.00 &            0.01 &                 1.00 &                 1.01 &    0.00 &  0.95 & 0.34 &      1.55 \\\\\n\\bottomrule\n\\end{tabular}\n"
          },
          "metadata": {}
        }
      ]
    },
    {
      "cell_type": "code",
      "source": [
        "cph.plot()"
      ],
      "metadata": {
        "colab": {
          "base_uri": "https://localhost:8080/",
          "height": 296
        },
        "id": "ERp3pzZlGuQ9",
        "outputId": "2df84fdd-3dcc-49b6-c30e-7439f4a7f8ed"
      },
      "execution_count": 20,
      "outputs": [
        {
          "output_type": "execute_result",
          "data": {
            "text/plain": [
              "<matplotlib.axes._subplots.AxesSubplot at 0x7f8c407d7190>"
            ]
          },
          "metadata": {},
          "execution_count": 20
        },
        {
          "output_type": "display_data",
          "data": {
            "text/plain": [
              "<Figure size 432x288 with 1 Axes>"
            ],
            "image/png": "[encoded data removed]"
          },
          "metadata": {
            "needs_background": "light"
          }
        }
      ]
    },
    {
      "cell_type": "code",
      "source": [
        "cph.plot_partial_effects_on_outcome(covariates = 'age', values = [40, 50, 60, 70, 80], cmap = 'coolwarm')"
      ],
      "metadata": {
        "colab": {
          "base_uri": "https://localhost:8080/",
          "height": 282
        },
        "id": "Q6AGETZkHEqi",
        "outputId": "e3bad0ee-8768-4118-d4de-18d9b6cd5b5a"
      },
      "execution_count": 23,
      "outputs": [
        {
          "output_type": "execute_result",
          "data": {
            "text/plain": [
              "<matplotlib.axes._subplots.AxesSubplot at 0x7f8c405fd310>"
            ]
          },
          "metadata": {},
          "execution_count": 23
        },
        {
          "output_type": "display_data",
          "data": {
            "text/plain": [
              "<Figure size 432x288 with 1 Axes>"
            ],
            "image/png": "[encoded data removed]"
          },
          "metadata": {
            "needs_background": "light"
          }
        }
      ]
    },
    {
      "cell_type": "code",
      "source": [
        "cph.plot_partial_effects_on_outcome(covariates = 'av3', values = [0,1], cmap = 'coolwarm')"
      ],
      "metadata": {
        "colab": {
          "base_uri": "https://localhost:8080/",
          "height": 282
        },
        "id": "2NTfCZa0HtEc",
        "outputId": "ecdb75dc-7bf3-4f6f-d60b-453627c02681"
      },
      "execution_count": 26,
      "outputs": [
        {
          "output_type": "execute_result",
          "data": {
            "text/plain": [
              "<matplotlib.axes._subplots.AxesSubplot at 0x7f8c40592fd0>"
            ]
          },
          "metadata": {},
          "execution_count": 26
        },
        {
          "output_type": "display_data",
          "data": {
            "text/plain": [
              "<Figure size 432x288 with 1 Axes>"
            ],
            "image/png": "[encoded data removed]"
          },
          "metadata": {
            "needs_background": "light"
          }
        }
      ]
    },
    {
      "cell_type": "code",
      "source": [
        "cph.plot_partial_effects_on_outcome(covariates = 'miord', values = [0,1], cmap = 'coolwarm')"
      ],
      "metadata": {
        "colab": {
          "base_uri": "https://localhost:8080/",
          "height": 282
        },
        "id": "TeYYx8PEJPTc",
        "outputId": "f54c4e28-ddd9-4fbf-8fa0-f71cb8951390"
      },
      "execution_count": 27,
      "outputs": [
        {
          "output_type": "execute_result",
          "data": {
            "text/plain": [
              "<matplotlib.axes._subplots.AxesSubplot at 0x7f8c40487f90>"
            ]
          },
          "metadata": {},
          "execution_count": 27
        },
        {
          "output_type": "display_data",
          "data": {
            "text/plain": [
              "<Figure size 432x288 with 1 Axes>"
            ],
            "image/png": "[encoded data removed]"
          },
          "metadata": {
            "needs_background": "light"
          }
        }
      ]
    },
    {
      "cell_type": "code",
      "source": [
        "cph.plot_partial_effects_on_outcome(covariates = 'cvd', values = [0,1], cmap = 'coolwarm')"
      ],
      "metadata": {
        "colab": {
          "base_uri": "https://localhost:8080/",
          "height": 282
        },
        "id": "C8wt8eDlJPuD",
        "outputId": "45e08cf9-d966-4320-b5a6-eb9e0a3bcb33"
      },
      "execution_count": 28,
      "outputs": [
        {
          "output_type": "execute_result",
          "data": {
            "text/plain": [
              "<matplotlib.axes._subplots.AxesSubplot at 0x7f8c40419810>"
            ]
          },
          "metadata": {},
          "execution_count": 28
        },
        {
          "output_type": "display_data",
          "data": {
            "text/plain": [
              "<Figure size 432x288 with 1 Axes>"
            ],
            "image/png": "[encoded data removed]"
          },
          "metadata": {
            "needs_background": "light"
          }
        }
      ]
    },
    {
      "cell_type": "code",
      "source": [
        "cph.plot_partial_effects_on_outcome(covariates = 'gender', values = [0,1], cmap = 'coolwarm')"
      ],
      "metadata": {
        "colab": {
          "base_uri": "https://localhost:8080/",
          "height": 282
        },
        "id": "XJkoPo9EJPwm",
        "outputId": "c8739492-b296-4ea7-807b-5a9be88d7855"
      },
      "execution_count": 29,
      "outputs": [
        {
          "output_type": "execute_result",
          "data": {
            "text/plain": [
              "<matplotlib.axes._subplots.AxesSubplot at 0x7f8c40385b50>"
            ]
          },
          "metadata": {},
          "execution_count": 29
        },
        {
          "output_type": "display_data",
          "data": {
            "text/plain": [
              "<Figure size 432x288 with 1 Axes>"
            ],
            "image/png": "[encoded data removed]"
          },
          "metadata": {
            "needs_background": "light"
          }
        }
      ]
    },
    {
      "cell_type": "code",
      "source": [
        "cph.plot_partial_effects_on_outcome(covariates = 'sho', values = [0,1], cmap = 'coolwarm')"
      ],
      "metadata": {
        "colab": {
          "base_uri": "https://localhost:8080/",
          "height": 282
        },
        "id": "SFfQ5eH4K4Mm",
        "outputId": "a29994ac-c6c0-426d-e564-839563d2e439"
      },
      "execution_count": 30,
      "outputs": [
        {
          "output_type": "execute_result",
          "data": {
            "text/plain": [
              "<matplotlib.axes._subplots.AxesSubplot at 0x7f8c40367f50>"
            ]
          },
          "metadata": {},
          "execution_count": 30
        },
        {
          "output_type": "display_data",
          "data": {
            "text/plain": [
              "<Figure size 432x288 with 1 Axes>"
            ],
            "image/png": "[encoded data removed]"
          },
          "metadata": {
            "needs_background": "light"
          }
        }
      ]
    },
    {
      "cell_type": "code",
      "source": [
        "cph.check_assumptions(data, p_value_threshold = 0.05)"
      ],
      "metadata": {
        "colab": {
          "base_uri": "https://localhost:8080/"
        },
        "id": "xd67lckNHVfr",
        "outputId": "f2289960-a690-41c8-a77b-37b568b8db47"
      },
      "execution_count": 25,
      "outputs": [
        {
          "output_type": "stream",
          "name": "stdout",
          "text": [
            "Proportional hazard assumption looks okay.\n"
          ]
        },
        {
          "output_type": "stream",
          "name": "stderr",
          "text": [
            "/usr/local/lib/python3.7/dist-packages/lifelines/fitters/mixins.py:108: FutureWarning: Index.__and__ operating as a set operation is deprecated, in the future this will be a logical operation matching Series.__and__.  Use index.intersection(other) instead\n",
            "  for variable in self.params_.index & (columns or self.params_.index):\n"
          ]
        },
        {
          "output_type": "execute_result",
          "data": {
            "text/plain": [
              "[]"
            ]
          },
          "metadata": {},
          "execution_count": 25
        }
      ]
    }
  ]
}