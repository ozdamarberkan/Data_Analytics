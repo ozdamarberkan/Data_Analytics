{
  "nbformat": 4,
  "nbformat_minor": 0,
  "metadata": {
    "colab": {
      "name": "kaplan_meier.ipynb",
      "provenance": [],
      "collapsed_sections": []
    },
    "kernelspec": {
      "name": "python3",
      "display_name": "Python 3"
    },
    "language_info": {
      "name": "python"
    }
  },
  "cells": [
    {
      "cell_type": "code",
      "execution_count": 1,
      "metadata": {
        "colab": {
          "base_uri": "https://localhost:8080/"
        },
        "id": "MmoWrpGL_1Tx",
        "outputId": "2630ca1d-40be-4683-d280-388e8a8dc516"
      },
      "outputs": [
        {
          "output_type": "stream",
          "name": "stdout",
          "text": [
            "Collecting scikit-survival\n",
            "  Downloading scikit_survival-0.17.2-cp37-cp37m-manylinux_2_17_x86_64.manylinux2014_x86_64.whl (3.1 MB)\n",
            "\u001b[K     |████████████████████████████████| 3.1 MB 16.4 MB/s \n",
            "\u001b[?25hRequirement already satisfied: numpy in /usr/local/lib/python3.7/dist-packages (from scikit-survival) (1.21.6)\n",
            "Requirement already satisfied: joblib in /usr/local/lib/python3.7/dist-packages (from scikit-survival) (1.1.0)\n",
            "Requirement already satisfied: scikit-learn<1.1,>=1.0.0 in /usr/local/lib/python3.7/dist-packages (from scikit-survival) (1.0.2)\n",
            "Requirement already satisfied: ecos in /usr/local/lib/python3.7/dist-packages (from scikit-survival) (2.0.10)\n",
            "Requirement already satisfied: osqp!=0.6.0,!=0.6.1 in /usr/local/lib/python3.7/dist-packages (from scikit-survival) (0.6.2.post0)\n",
            "Requirement already satisfied: numexpr in /usr/local/lib/python3.7/dist-packages (from scikit-survival) (2.8.1)\n",
            "Requirement already satisfied: scipy!=1.3.0,>=1.0 in /usr/local/lib/python3.7/dist-packages (from scikit-survival) (1.4.1)\n",
            "Requirement already satisfied: pandas>=0.25 in /usr/local/lib/python3.7/dist-packages (from scikit-survival) (1.3.5)\n",
            "Requirement already satisfied: qdldl in /usr/local/lib/python3.7/dist-packages (from osqp!=0.6.0,!=0.6.1->scikit-survival) (0.1.5.post2)\n",
            "Requirement already satisfied: python-dateutil>=2.7.3 in /usr/local/lib/python3.7/dist-packages (from pandas>=0.25->scikit-survival) (2.8.2)\n",
            "Requirement already satisfied: pytz>=2017.3 in /usr/local/lib/python3.7/dist-packages (from pandas>=0.25->scikit-survival) (2022.1)\n",
            "Requirement already satisfied: six>=1.5 in /usr/local/lib/python3.7/dist-packages (from python-dateutil>=2.7.3->pandas>=0.25->scikit-survival) (1.15.0)\n",
            "Requirement already satisfied: threadpoolctl>=2.0.0 in /usr/local/lib/python3.7/dist-packages (from scikit-learn<1.1,>=1.0.0->scikit-survival) (3.1.0)\n",
            "Requirement already satisfied: packaging in /usr/local/lib/python3.7/dist-packages (from numexpr->scikit-survival) (21.3)\n",
            "Requirement already satisfied: pyparsing!=3.0.5,>=2.0.2 in /usr/local/lib/python3.7/dist-packages (from packaging->numexpr->scikit-survival) (3.0.8)\n",
            "Installing collected packages: scikit-survival\n",
            "Successfully installed scikit-survival-0.17.2\n",
            "Collecting lifelines\n",
            "  Downloading lifelines-0.27.0-py3-none-any.whl (349 kB)\n",
            "\u001b[K     |████████████████████████████████| 349 kB 23.6 MB/s \n",
            "\u001b[?25hRequirement already satisfied: scipy>=1.2.0 in /usr/local/lib/python3.7/dist-packages (from lifelines) (1.4.1)\n",
            "Requirement already satisfied: pandas>=1.0.0 in /usr/local/lib/python3.7/dist-packages (from lifelines) (1.3.5)\n",
            "Requirement already satisfied: autograd>=1.3 in /usr/local/lib/python3.7/dist-packages (from lifelines) (1.4)\n",
            "Collecting autograd-gamma>=0.3\n",
            "  Downloading autograd-gamma-0.5.0.tar.gz (4.0 kB)\n",
            "Collecting formulaic>=0.2.2\n",
            "  Downloading formulaic-0.3.4-py3-none-any.whl (68 kB)\n",
            "\u001b[K     |████████████████████████████████| 68 kB 7.0 MB/s \n",
            "\u001b[?25hRequirement already satisfied: numpy>=1.14.0 in /usr/local/lib/python3.7/dist-packages (from lifelines) (1.21.6)\n",
            "Requirement already satisfied: matplotlib>=3.0 in /usr/local/lib/python3.7/dist-packages (from lifelines) (3.2.2)\n",
            "Requirement already satisfied: future>=0.15.2 in /usr/local/lib/python3.7/dist-packages (from autograd>=1.3->lifelines) (0.16.0)\n",
            "Requirement already satisfied: astor>=0.8 in /usr/local/lib/python3.7/dist-packages (from formulaic>=0.2.2->lifelines) (0.8.1)\n",
            "Collecting interface-meta<2.0.0,>=1.2.0\n",
            "  Downloading interface_meta-1.3.0-py3-none-any.whl (14 kB)\n",
            "Requirement already satisfied: wrapt>=1.0 in /usr/local/lib/python3.7/dist-packages (from formulaic>=0.2.2->lifelines) (1.14.0)\n",
            "Collecting scipy>=1.2.0\n",
            "  Downloading scipy-1.7.3-cp37-cp37m-manylinux_2_12_x86_64.manylinux2010_x86_64.whl (38.1 MB)\n",
            "\u001b[K     |████████████████████████████████| 38.1 MB 381 kB/s \n",
            "\u001b[?25hRequirement already satisfied: pyparsing!=2.0.4,!=2.1.2,!=2.1.6,>=2.0.1 in /usr/local/lib/python3.7/dist-packages (from matplotlib>=3.0->lifelines) (3.0.8)\n",
            "Requirement already satisfied: cycler>=0.10 in /usr/local/lib/python3.7/dist-packages (from matplotlib>=3.0->lifelines) (0.11.0)\n",
            "Requirement already satisfied: kiwisolver>=1.0.1 in /usr/local/lib/python3.7/dist-packages (from matplotlib>=3.0->lifelines) (1.4.2)\n",
            "Requirement already satisfied: python-dateutil>=2.1 in /usr/local/lib/python3.7/dist-packages (from matplotlib>=3.0->lifelines) (2.8.2)\n",
            "Requirement already satisfied: typing-extensions in /usr/local/lib/python3.7/dist-packages (from kiwisolver>=1.0.1->matplotlib>=3.0->lifelines) (4.2.0)\n",
            "Requirement already satisfied: pytz>=2017.3 in /usr/local/lib/python3.7/dist-packages (from pandas>=1.0.0->lifelines) (2022.1)\n",
            "Requirement already satisfied: six>=1.5 in /usr/local/lib/python3.7/dist-packages (from python-dateutil>=2.1->matplotlib>=3.0->lifelines) (1.15.0)\n",
            "Building wheels for collected packages: autograd-gamma\n",
            "  Building wheel for autograd-gamma (setup.py) ... \u001b[?25l\u001b[?25hdone\n",
            "  Created wheel for autograd-gamma: filename=autograd_gamma-0.5.0-py3-none-any.whl size=4048 sha256=735f0b4ada0a30b9d218a077443fa1f9011c73b6d04be822b38101cdc70bf351\n",
            "  Stored in directory: /root/.cache/pip/wheels/9f/01/ee/1331593abb5725ff7d8c1333aee93a50a1c29d6ddda9665c9f\n",
            "Successfully built autograd-gamma\n",
            "Installing collected packages: scipy, interface-meta, formulaic, autograd-gamma, lifelines\n",
            "  Attempting uninstall: scipy\n",
            "    Found existing installation: scipy 1.4.1\n",
            "    Uninstalling scipy-1.4.1:\n",
            "      Successfully uninstalled scipy-1.4.1\n",
            "\u001b[31mERROR: pip's dependency resolver does not currently take into account all the packages that are installed. This behaviour is the source of the following dependency conflicts.\n",
            "albumentations 0.1.12 requires imgaug<0.2.7,>=0.2.5, but you have imgaug 0.2.9 which is incompatible.\u001b[0m\n",
            "Successfully installed autograd-gamma-0.5.0 formulaic-0.3.4 interface-meta-1.3.0 lifelines-0.27.0 scipy-1.7.3\n"
          ]
        }
      ],
      "source": [
        "!pip install scikit-survival\n",
        "!pip install lifelines"
      ]
    },
    {
      "cell_type": "code",
      "source": [
        "import pandas as pd\n",
        "from lifelines import KaplanMeierFitter\n",
        "import numpy as np"
      ],
      "metadata": {
        "id": "F7qw3dvS_8Sr"
      },
      "execution_count": 2,
      "outputs": []
    },
    {
      "cell_type": "code",
      "source": [
        "# Sometimes it works when ran twice\n",
        "\n",
        "import sksurv\n",
        "import sksurv.datasets"
      ],
      "metadata": {
        "id": "33JEPwhm_-8-"
      },
      "execution_count": 4,
      "outputs": []
    },
    {
      "cell_type": "code",
      "source": [
        "'''\n",
        "Variable \tName\t\tDescription\t\t\t                Codes / Values\n",
        "*******************************************************************************************************\n",
        "1\t\t     id\t\t    Identification Number\t\t\t    1 - 500\n",
        "2\t\t    age\t\t    Age at Hospital Admission\t\t    Years\n",
        "3 \t    \tgender\t\tGender \t\t\t\t\t            0 = Male, 1 = Female\n",
        "4    \t\thr\t\t    Initial Heart Rate\t\t\t        Beats per minute\n",
        "5\t\t    sysbp\t\tInitial Systolic Blood Pressure \tmmHg\n",
        "6\t    \tdiasbp\t\tInitial Diastolic Blood Pressure\tmmHg\n",
        "7    \t\tbmi\t\t    Body Mass Index\t\t\t \t        kg/m^2\n",
        "8\t\t    cvd\t\t    History of Cardiovascular Disease\t0 = No, 1 = Yes\t\t\t\t\t\t\n",
        "9\t\t    afb\t\t    Atrial Fibrillation\t\t\t        0 = No, 1 = Yes\t\t\t\t\t\t\n",
        "10  \t\tsho\t\t    Cardiogenic Shock\t\t\t        0 = No, 1 = Yes\t\t\t\t\t\t\n",
        "11  \t\tchf\t\t    Congestive Heart Complications\t\t0 = No, 1 = Yes\t\t\t\t\t\t\n",
        "12  \t\tav3\t\t    Complete Heart Block\t\t\t    0 = No, 1 = Yes\t\t\t\t\n",
        "13  \t\tmiord\t\tMI Order \t\t\t\t            0 = First, 1 = Recurrent\n",
        "14  \t\tmitype\t\tMI Type \t\t\t\t            0 = non Q-wave, 1 = Q-wave\n",
        "15  \t\tyear\t\tCohort Year\t\t\t\t            1 = 1997, 2 = 1999, 3 = 2001\t\t\t\t\n",
        "16  \t\tadmitdate\tHospital Admission Date \t\t    mm/dd/yyyy\n",
        "17  \t\tdisdate\t\tHospital Discharge Date \t\t    mm/dd/yyyy\n",
        "18  \t\tfdate\t\tDate of last Follow Up \t\t\t    mm/dd/yyyy\n",
        "19  \t\tlos\t\t    Length of Hospital Stay\t\t\t    Days from Hospital Admission\n",
        "\t\t\t\t\t\t\t\t \t                            to Hospital Discharge\n",
        "20 \t    \tdstat\t\tDischarge Status from Hospital\t\t0 = Alive, 1 = Dead\n",
        "21\t    \tlenfol\t\tTotal Length of Follow-up\t\t    Days from Hospital Admission Date\n",
        "\t\t\t\t\t\t\t\t\t                            to Date of Last Follow-up \n",
        "22\t    \tevent\t\tVital Status at Last Follow-up\t\t0 = Alive 1 = Dead\n",
        "'''"
      ],
      "metadata": {
        "colab": {
          "base_uri": "https://localhost:8080/",
          "height": 105
        },
        "id": "tdgS3T4fFwOl",
        "outputId": "b5b29546-7b0e-4393-99fa-c84b48ef0cdd"
      },
      "execution_count": 58,
      "outputs": [
        {
          "output_type": "execute_result",
          "data": {
            "text/plain": [
              "'\\nVariable \\tName\\t\\tDescription\\t\\t\\t                Codes / Values\\n*******************************************************************************************************\\n1\\t\\t     id\\t\\t    Identification Number\\t\\t\\t    1 - 500\\n2\\t\\t    age\\t\\t    Age at Hospital Admission\\t\\t    Years\\n3 \\t    \\tgender\\t\\tGender \\t\\t\\t\\t\\t            0 = Male, 1 = Female\\n4    \\t\\thr\\t\\t    Initial Heart Rate\\t\\t\\t        Beats per minute\\n5\\t\\t    sysbp\\t\\tInitial Systolic Blood Pressure \\tmmHg\\n6\\t    \\tdiasbp\\t\\tInitial Diastolic Blood Pressure\\tmmHg\\n7    \\t\\tbmi\\t\\t    Body Mass Index\\t\\t\\t \\t        kg/m^2\\n8\\t\\t    cvd\\t\\t    History of Cardiovascular Disease\\t0 = No, 1 = Yes\\t\\t\\t\\t\\t\\t\\n9\\t\\t    afb\\t\\t    Atrial Fibrillation\\t\\t\\t        0 = No, 1 = Yes\\t\\t\\t\\t\\t\\t\\n10  \\t\\tsho\\t\\t    Cardiogenic Shock\\t\\t\\t        0 = No, 1 = Yes\\t\\t\\t\\t\\t\\t\\n11  \\t\\tchf\\t\\t    Congestive Heart Complications\\t\\t0 = No, 1 = Yes\\t\\t\\t\\t\\t\\t\\n12  \\t\\tav3\\t\\t    Complete Heart Block\\t\\t\\t    0 = No, 1 = Yes\\t\\t\\t\\t\\n13  \\t\\tmiord\\t\\tMI Order \\t\\t\\t\\t            0 = First, 1 = Recurrent\\n14  \\t\\tmitype\\t\\tMI Type \\t\\t\\t\\t            0 = non Q-wave, 1 = Q-wave\\n15  \\t\\tyear\\t\\tCohort Year\\t\\t\\t\\t            1 = 1997, 2 = 1999, 3 = 2001\\t\\t\\t\\t\\n16  \\t\\tadmitdate\\tHospital Admission Date \\t\\t    mm/dd/yyyy\\n17  \\t\\tdisdate\\t\\tHospital Discharge Date \\t\\t    mm/dd/yyyy\\n18  \\t\\tfdate\\t\\tDate of last Follow Up \\t\\t\\t    mm/dd/yyyy\\n19  \\t\\tlos\\t\\t    Length of Hospital Stay\\t\\t\\t    Days from Hospital Admission\\n\\t\\t\\t\\t\\t\\t\\t\\t \\t                            to Hospital Discharge\\n20 \\t    \\tdstat\\t\\tDischarge Status from Hospital\\t\\t0 = Alive, 1 = Dead\\n21\\t    \\tlenfol\\t\\tTotal Length of Follow-up\\t\\t    Days from Hospital Admission Date\\n\\t\\t\\t\\t\\t\\t\\t\\t\\t                            to Date of Last Follow-up \\n22\\t    \\tevent\\t\\tVital Status at Last Follow-up\\t\\t0 = Alive 1 = Dead\\n'"
            ],
            "application/vnd.google.colaboratory.intrinsic+json": {
              "type": "string"
            }
          },
          "metadata": {},
          "execution_count": 58
        }
      ]
    },
    {
      "cell_type": "code",
      "source": [
        "# load data\n",
        "data, labels = sksurv.datasets.load_whas500()"
      ],
      "metadata": {
        "id": "22QSWvHnAHTQ"
      },
      "execution_count": 45,
      "outputs": []
    },
    {
      "cell_type": "code",
      "source": [
        "data = data.astype(np.int32)\n",
        "print(data.columns)"
      ],
      "metadata": {
        "colab": {
          "base_uri": "https://localhost:8080/"
        },
        "id": "d3IAD99mAIRn",
        "outputId": "0c85b3d0-b9a7-49db-fd83-955c55394aa5"
      },
      "execution_count": 46,
      "outputs": [
        {
          "output_type": "stream",
          "name": "stdout",
          "text": [
            "Index(['afb', 'age', 'av3', 'bmi', 'chf', 'cvd', 'diasbp', 'gender', 'hr',\n",
            "       'los', 'miord', 'mitype', 'sho', 'sysbp'],\n",
            "      dtype='object')\n"
          ]
        }
      ]
    },
    {
      "cell_type": "code",
      "source": [
        "# total admission date + total follow up days\n",
        "data['event'] = [label[0] for label in labels]\n",
        "# data['time'] = [x.days for x in data.time]\n",
        "\n",
        "data.head()"
      ],
      "metadata": {
        "colab": {
          "base_uri": "https://localhost:8080/",
          "height": 206
        },
        "id": "5ktnViPcAIzm",
        "outputId": "3139b60a-e8f7-4cc4-def8-95c6e1e38bbf"
      },
      "execution_count": 47,
      "outputs": [
        {
          "output_type": "execute_result",
          "data": {
            "text/plain": [
              "   afb  age  av3  bmi  chf  cvd  diasbp  gender  hr  los  miord  mitype  sho  \\\n",
              "0    1   83    0   25    0    1      78       0  89    5      1       0    0   \n",
              "1    0   49    0   24    0    1      60       0  84    5      0       1    0   \n",
              "2    0   70    0   22    0    0      88       1  83    5      0       1    0   \n",
              "3    0   70    0   26    1    1      76       0  65   10      0       1    0   \n",
              "4    0   70    0   24    0    1      85       0  63    6      0       1    0   \n",
              "\n",
              "   sysbp  event  \n",
              "0    152  False  \n",
              "1    120  False  \n",
              "2    147  False  \n",
              "3    123   True  \n",
              "4    135  False  "
            ],
            "text/html": [
              "\n",
              "  <div id=\"df-fb31966f-5875-4fe5-8375-1a26c4251f4c\">\n",
              "    <div class=\"colab-df-container\">\n",
              "      <div>\n",
              "<style scoped>\n",
              "    .dataframe tbody tr th:only-of-type {\n",
              "        vertical-align: middle;\n",
              "    }\n",
              "\n",
              "    .dataframe tbody tr th {\n",
              "        vertical-align: top;\n",
              "    }\n",
              "\n",
              "    .dataframe thead th {\n",
              "        text-align: right;\n",
              "    }\n",
              "</style>\n",
              "<table border=\"1\" class=\"dataframe\">\n",
              "  <thead>\n",
              "    <tr style=\"text-align: right;\">\n",
              "      <th></th>\n",
              "      <th>afb</th>\n",
              "      <th>age</th>\n",
              "      <th>av3</th>\n",
              "      <th>bmi</th>\n",
              "      <th>chf</th>\n",
              "      <th>cvd</th>\n",
              "      <th>diasbp</th>\n",
              "      <th>gender</th>\n",
              "      <th>hr</th>\n",
              "      <th>los</th>\n",
              "      <th>miord</th>\n",
              "      <th>mitype</th>\n",
              "      <th>sho</th>\n",
              "      <th>sysbp</th>\n",
              "      <th>event</th>\n",
              "    </tr>\n",
              "  </thead>\n",
              "  <tbody>\n",
              "    <tr>\n",
              "      <th>0</th>\n",
              "      <td>1</td>\n",
              "      <td>83</td>\n",
              "      <td>0</td>\n",
              "      <td>25</td>\n",
              "      <td>0</td>\n",
              "      <td>1</td>\n",
              "      <td>78</td>\n",
              "      <td>0</td>\n",
              "      <td>89</td>\n",
              "      <td>5</td>\n",
              "      <td>1</td>\n",
              "      <td>0</td>\n",
              "      <td>0</td>\n",
              "      <td>152</td>\n",
              "      <td>False</td>\n",
              "    </tr>\n",
              "    <tr>\n",
              "      <th>1</th>\n",
              "      <td>0</td>\n",
              "      <td>49</td>\n",
              "      <td>0</td>\n",
              "      <td>24</td>\n",
              "      <td>0</td>\n",
              "      <td>1</td>\n",
              "      <td>60</td>\n",
              "      <td>0</td>\n",
              "      <td>84</td>\n",
              "      <td>5</td>\n",
              "      <td>0</td>\n",
              "      <td>1</td>\n",
              "      <td>0</td>\n",
              "      <td>120</td>\n",
              "      <td>False</td>\n",
              "    </tr>\n",
              "    <tr>\n",
              "      <th>2</th>\n",
              "      <td>0</td>\n",
              "      <td>70</td>\n",
              "      <td>0</td>\n",
              "      <td>22</td>\n",
              "      <td>0</td>\n",
              "      <td>0</td>\n",
              "      <td>88</td>\n",
              "      <td>1</td>\n",
              "      <td>83</td>\n",
              "      <td>5</td>\n",
              "      <td>0</td>\n",
              "      <td>1</td>\n",
              "      <td>0</td>\n",
              "      <td>147</td>\n",
              "      <td>False</td>\n",
              "    </tr>\n",
              "    <tr>\n",
              "      <th>3</th>\n",
              "      <td>0</td>\n",
              "      <td>70</td>\n",
              "      <td>0</td>\n",
              "      <td>26</td>\n",
              "      <td>1</td>\n",
              "      <td>1</td>\n",
              "      <td>76</td>\n",
              "      <td>0</td>\n",
              "      <td>65</td>\n",
              "      <td>10</td>\n",
              "      <td>0</td>\n",
              "      <td>1</td>\n",
              "      <td>0</td>\n",
              "      <td>123</td>\n",
              "      <td>True</td>\n",
              "    </tr>\n",
              "    <tr>\n",
              "      <th>4</th>\n",
              "      <td>0</td>\n",
              "      <td>70</td>\n",
              "      <td>0</td>\n",
              "      <td>24</td>\n",
              "      <td>0</td>\n",
              "      <td>1</td>\n",
              "      <td>85</td>\n",
              "      <td>0</td>\n",
              "      <td>63</td>\n",
              "      <td>6</td>\n",
              "      <td>0</td>\n",
              "      <td>1</td>\n",
              "      <td>0</td>\n",
              "      <td>135</td>\n",
              "      <td>False</td>\n",
              "    </tr>\n",
              "  </tbody>\n",
              "</table>\n",
              "</div>\n",
              "      <button class=\"colab-df-convert\" onclick=\"convertToInteractive('df-fb31966f-5875-4fe5-8375-1a26c4251f4c')\"\n",
              "              title=\"Convert this dataframe to an interactive table.\"\n",
              "              style=\"display:none;\">\n",
              "        \n",
              "  <svg xmlns=\"http://www.w3.org/2000/svg\" height=\"24px\"viewBox=\"0 0 24 24\"\n",
              "       width=\"24px\">\n",
              "    <path d=\"M0 0h24v24H0V0z\" fill=\"none\"/>\n",
              "    <path d=\"M18.56 5.44l.94 2.06.94-2.06 2.06-.94-2.06-.94-.94-2.06-.94 2.06-2.06.94zm-11 1L8.5 8.5l.94-2.06 2.06-.94-2.06-.94L8.5 2.5l-.94 2.06-2.06.94zm10 10l.94 2.06.94-2.06 2.06-.94-2.06-.94-.94-2.06-.94 2.06-2.06.94z\"/><path d=\"M17.41 7.96l-1.37-1.37c-.4-.4-.92-.59-1.43-.59-.52 0-1.04.2-1.43.59L10.3 9.45l-7.72 7.72c-.78.78-.78 2.05 0 2.83L4 21.41c.39.39.9.59 1.41.59.51 0 1.02-.2 1.41-.59l7.78-7.78 2.81-2.81c.8-.78.8-2.07 0-2.86zM5.41 20L4 18.59l7.72-7.72 1.47 1.35L5.41 20z\"/>\n",
              "  </svg>\n",
              "      </button>\n",
              "      \n",
              "  <style>\n",
              "    .colab-df-container {\n",
              "      display:flex;\n",
              "      flex-wrap:wrap;\n",
              "      gap: 12px;\n",
              "    }\n",
              "\n",
              "    .colab-df-convert {\n",
              "      background-color: #E8F0FE;\n",
              "      border: none;\n",
              "      border-radius: 50%;\n",
              "      cursor: pointer;\n",
              "      display: none;\n",
              "      fill: #1967D2;\n",
              "      height: 32px;\n",
              "      padding: 0 0 0 0;\n",
              "      width: 32px;\n",
              "    }\n",
              "\n",
              "    .colab-df-convert:hover {\n",
              "      background-color: #E2EBFA;\n",
              "      box-shadow: 0px 1px 2px rgba(60, 64, 67, 0.3), 0px 1px 3px 1px rgba(60, 64, 67, 0.15);\n",
              "      fill: #174EA6;\n",
              "    }\n",
              "\n",
              "    [theme=dark] .colab-df-convert {\n",
              "      background-color: #3B4455;\n",
              "      fill: #D2E3FC;\n",
              "    }\n",
              "\n",
              "    [theme=dark] .colab-df-convert:hover {\n",
              "      background-color: #434B5C;\n",
              "      box-shadow: 0px 1px 3px 1px rgba(0, 0, 0, 0.15);\n",
              "      filter: drop-shadow(0px 1px 2px rgba(0, 0, 0, 0.3));\n",
              "      fill: #FFFFFF;\n",
              "    }\n",
              "  </style>\n",
              "\n",
              "      <script>\n",
              "        const buttonEl =\n",
              "          document.querySelector('#df-fb31966f-5875-4fe5-8375-1a26c4251f4c button.colab-df-convert');\n",
              "        buttonEl.style.display =\n",
              "          google.colab.kernel.accessAllowed ? 'block' : 'none';\n",
              "\n",
              "        async function convertToInteractive(key) {\n",
              "          const element = document.querySelector('#df-fb31966f-5875-4fe5-8375-1a26c4251f4c');\n",
              "          const dataTable =\n",
              "            await google.colab.kernel.invokeFunction('convertToInteractive',\n",
              "                                                     [key], {});\n",
              "          if (!dataTable) return;\n",
              "\n",
              "          const docLinkHtml = 'Like what you see? Visit the ' +\n",
              "            '<a target=\"_blank\" href=https://colab.research.google.com/notebooks/data_table.ipynb>data table notebook</a>'\n",
              "            + ' to learn more about interactive tables.';\n",
              "          element.innerHTML = '';\n",
              "          dataTable['output_type'] = 'display_data';\n",
              "          await google.colab.output.renderOutput(dataTable, element);\n",
              "          const docLink = document.createElement('div');\n",
              "          docLink.innerHTML = docLinkHtml;\n",
              "          element.appendChild(docLink);\n",
              "        }\n",
              "      </script>\n",
              "    </div>\n",
              "  </div>\n",
              "  "
            ]
          },
          "metadata": {},
          "execution_count": 47
        }
      ]
    },
    {
      "cell_type": "code",
      "source": [
        "kmf = KaplanMeierFitter()\n",
        "kmf.fit(durations =  data.los, event_observed = data['event'])\n",
        "kmf.plot_survival_function()"
      ],
      "metadata": {
        "colab": {
          "base_uri": "https://localhost:8080/",
          "height": 296
        },
        "id": "SE2xbhI8Ac-f",
        "outputId": "4a19f5f3-011d-4141-9dd7-144b059276a9"
      },
      "execution_count": 48,
      "outputs": [
        {
          "output_type": "execute_result",
          "data": {
            "text/plain": [
              "<matplotlib.axes._subplots.AxesSubplot at 0x7f6c95d6b810>"
            ]
          },
          "metadata": {},
          "execution_count": 48
        },
        {
          "output_type": "display_data",
          "data": {
            "text/plain": [
              "<Figure size 432x288 with 1 Axes>"
            ],
            "image/png": "[encoded data removed]"
          },
          "metadata": {
            "needs_background": "light"
          }
        }
      ]
    },
    {
      "cell_type": "code",
      "source": [
        "data_male = data.loc[data[\"gender\"]==0]\n",
        "data_female = data[data[\"gender\"]==1]"
      ],
      "metadata": {
        "id": "e9BkQ8S6Bpnf"
      },
      "execution_count": 49,
      "outputs": []
    },
    {
      "cell_type": "code",
      "source": [
        "data_male.head(6)"
      ],
      "metadata": {
        "colab": {
          "base_uri": "https://localhost:8080/",
          "height": 238
        },
        "id": "Hwyto24SB4wG",
        "outputId": "a389ba34-68a4-420d-8817-989cd632e15d"
      },
      "execution_count": 50,
      "outputs": [
        {
          "output_type": "execute_result",
          "data": {
            "text/plain": [
              "   afb  age  av3  bmi  chf  cvd  diasbp  gender  hr  los  miord  mitype  sho  \\\n",
              "0    1   83    0   25    0    1      78       0  89    5      1       0    0   \n",
              "1    0   49    0   24    0    1      60       0  84    5      0       1    0   \n",
              "3    0   70    0   26    1    1      76       0  65   10      0       1    0   \n",
              "4    0   70    0   24    0    1      85       0  63    6      0       1    0   \n",
              "5    0   70    1   23    0    1      54       0  76    1      0       0    0   \n",
              "6    0   57    0   39    0    1     116       0  73    5      0       1    0   \n",
              "\n",
              "   sysbp  event  \n",
              "0    152  False  \n",
              "1    120  False  \n",
              "3    123   True  \n",
              "4    135  False  \n",
              "5     83   True  \n",
              "6    191  False  "
            ],
            "text/html": [
              "\n",
              "  <div id=\"df-38326d1a-dfd2-4ffb-8ce2-f384c1bb4128\">\n",
              "    <div class=\"colab-df-container\">\n",
              "      <div>\n",
              "<style scoped>\n",
              "    .dataframe tbody tr th:only-of-type {\n",
              "        vertical-align: middle;\n",
              "    }\n",
              "\n",
              "    .dataframe tbody tr th {\n",
              "        vertical-align: top;\n",
              "    }\n",
              "\n",
              "    .dataframe thead th {\n",
              "        text-align: right;\n",
              "    }\n",
              "</style>\n",
              "<table border=\"1\" class=\"dataframe\">\n",
              "  <thead>\n",
              "    <tr style=\"text-align: right;\">\n",
              "      <th></th>\n",
              "      <th>afb</th>\n",
              "      <th>age</th>\n",
              "      <th>av3</th>\n",
              "      <th>bmi</th>\n",
              "      <th>chf</th>\n",
              "      <th>cvd</th>\n",
              "      <th>diasbp</th>\n",
              "      <th>gender</th>\n",
              "      <th>hr</th>\n",
              "      <th>los</th>\n",
              "      <th>miord</th>\n",
              "      <th>mitype</th>\n",
              "      <th>sho</th>\n",
              "      <th>sysbp</th>\n",
              "      <th>event</th>\n",
              "    </tr>\n",
              "  </thead>\n",
              "  <tbody>\n",
              "    <tr>\n",
              "      <th>0</th>\n",
              "      <td>1</td>\n",
              "      <td>83</td>\n",
              "      <td>0</td>\n",
              "      <td>25</td>\n",
              "      <td>0</td>\n",
              "      <td>1</td>\n",
              "      <td>78</td>\n",
              "      <td>0</td>\n",
              "      <td>89</td>\n",
              "      <td>5</td>\n",
              "      <td>1</td>\n",
              "      <td>0</td>\n",
              "      <td>0</td>\n",
              "      <td>152</td>\n",
              "      <td>False</td>\n",
              "    </tr>\n",
              "    <tr>\n",
              "      <th>1</th>\n",
              "      <td>0</td>\n",
              "      <td>49</td>\n",
              "      <td>0</td>\n",
              "      <td>24</td>\n",
              "      <td>0</td>\n",
              "      <td>1</td>\n",
              "      <td>60</td>\n",
              "      <td>0</td>\n",
              "      <td>84</td>\n",
              "      <td>5</td>\n",
              "      <td>0</td>\n",
              "      <td>1</td>\n",
              "      <td>0</td>\n",
              "      <td>120</td>\n",
              "      <td>False</td>\n",
              "    </tr>\n",
              "    <tr>\n",
              "      <th>3</th>\n",
              "      <td>0</td>\n",
              "      <td>70</td>\n",
              "      <td>0</td>\n",
              "      <td>26</td>\n",
              "      <td>1</td>\n",
              "      <td>1</td>\n",
              "      <td>76</td>\n",
              "      <td>0</td>\n",
              "      <td>65</td>\n",
              "      <td>10</td>\n",
              "      <td>0</td>\n",
              "      <td>1</td>\n",
              "      <td>0</td>\n",
              "      <td>123</td>\n",
              "      <td>True</td>\n",
              "    </tr>\n",
              "    <tr>\n",
              "      <th>4</th>\n",
              "      <td>0</td>\n",
              "      <td>70</td>\n",
              "      <td>0</td>\n",
              "      <td>24</td>\n",
              "      <td>0</td>\n",
              "      <td>1</td>\n",
              "      <td>85</td>\n",
              "      <td>0</td>\n",
              "      <td>63</td>\n",
              "      <td>6</td>\n",
              "      <td>0</td>\n",
              "      <td>1</td>\n",
              "      <td>0</td>\n",
              "      <td>135</td>\n",
              "      <td>False</td>\n",
              "    </tr>\n",
              "    <tr>\n",
              "      <th>5</th>\n",
              "      <td>0</td>\n",
              "      <td>70</td>\n",
              "      <td>1</td>\n",
              "      <td>23</td>\n",
              "      <td>0</td>\n",
              "      <td>1</td>\n",
              "      <td>54</td>\n",
              "      <td>0</td>\n",
              "      <td>76</td>\n",
              "      <td>1</td>\n",
              "      <td>0</td>\n",
              "      <td>0</td>\n",
              "      <td>0</td>\n",
              "      <td>83</td>\n",
              "      <td>True</td>\n",
              "    </tr>\n",
              "    <tr>\n",
              "      <th>6</th>\n",
              "      <td>0</td>\n",
              "      <td>57</td>\n",
              "      <td>0</td>\n",
              "      <td>39</td>\n",
              "      <td>0</td>\n",
              "      <td>1</td>\n",
              "      <td>116</td>\n",
              "      <td>0</td>\n",
              "      <td>73</td>\n",
              "      <td>5</td>\n",
              "      <td>0</td>\n",
              "      <td>1</td>\n",
              "      <td>0</td>\n",
              "      <td>191</td>\n",
              "      <td>False</td>\n",
              "    </tr>\n",
              "  </tbody>\n",
              "</table>\n",
              "</div>\n",
              "      <button class=\"colab-df-convert\" onclick=\"convertToInteractive('df-38326d1a-dfd2-4ffb-8ce2-f384c1bb4128')\"\n",
              "              title=\"Convert this dataframe to an interactive table.\"\n",
              "              style=\"display:none;\">\n",
              "        \n",
              "  <svg xmlns=\"http://www.w3.org/2000/svg\" height=\"24px\"viewBox=\"0 0 24 24\"\n",
              "       width=\"24px\">\n",
              "    <path d=\"M0 0h24v24H0V0z\" fill=\"none\"/>\n",
              "    <path d=\"M18.56 5.44l.94 2.06.94-2.06 2.06-.94-2.06-.94-.94-2.06-.94 2.06-2.06.94zm-11 1L8.5 8.5l.94-2.06 2.06-.94-2.06-.94L8.5 2.5l-.94 2.06-2.06.94zm10 10l.94 2.06.94-2.06 2.06-.94-2.06-.94-.94-2.06-.94 2.06-2.06.94z\"/><path d=\"M17.41 7.96l-1.37-1.37c-.4-.4-.92-.59-1.43-.59-.52 0-1.04.2-1.43.59L10.3 9.45l-7.72 7.72c-.78.78-.78 2.05 0 2.83L4 21.41c.39.39.9.59 1.41.59.51 0 1.02-.2 1.41-.59l7.78-7.78 2.81-2.81c.8-.78.8-2.07 0-2.86zM5.41 20L4 18.59l7.72-7.72 1.47 1.35L5.41 20z\"/>\n",
              "  </svg>\n",
              "      </button>\n",
              "      \n",
              "  <style>\n",
              "    .colab-df-container {\n",
              "      display:flex;\n",
              "      flex-wrap:wrap;\n",
              "      gap: 12px;\n",
              "    }\n",
              "\n",
              "    .colab-df-convert {\n",
              "      background-color: #E8F0FE;\n",
              "      border: none;\n",
              "      border-radius: 50%;\n",
              "      cursor: pointer;\n",
              "      display: none;\n",
              "      fill: #1967D2;\n",
              "      height: 32px;\n",
              "      padding: 0 0 0 0;\n",
              "      width: 32px;\n",
              "    }\n",
              "\n",
              "    .colab-df-convert:hover {\n",
              "      background-color: #E2EBFA;\n",
              "      box-shadow: 0px 1px 2px rgba(60, 64, 67, 0.3), 0px 1px 3px 1px rgba(60, 64, 67, 0.15);\n",
              "      fill: #174EA6;\n",
              "    }\n",
              "\n",
              "    [theme=dark] .colab-df-convert {\n",
              "      background-color: #3B4455;\n",
              "      fill: #D2E3FC;\n",
              "    }\n",
              "\n",
              "    [theme=dark] .colab-df-convert:hover {\n",
              "      background-color: #434B5C;\n",
              "      box-shadow: 0px 1px 3px 1px rgba(0, 0, 0, 0.15);\n",
              "      filter: drop-shadow(0px 1px 2px rgba(0, 0, 0, 0.3));\n",
              "      fill: #FFFFFF;\n",
              "    }\n",
              "  </style>\n",
              "\n",
              "      <script>\n",
              "        const buttonEl =\n",
              "          document.querySelector('#df-38326d1a-dfd2-4ffb-8ce2-f384c1bb4128 button.colab-df-convert');\n",
              "        buttonEl.style.display =\n",
              "          google.colab.kernel.accessAllowed ? 'block' : 'none';\n",
              "\n",
              "        async function convertToInteractive(key) {\n",
              "          const element = document.querySelector('#df-38326d1a-dfd2-4ffb-8ce2-f384c1bb4128');\n",
              "          const dataTable =\n",
              "            await google.colab.kernel.invokeFunction('convertToInteractive',\n",
              "                                                     [key], {});\n",
              "          if (!dataTable) return;\n",
              "\n",
              "          const docLinkHtml = 'Like what you see? Visit the ' +\n",
              "            '<a target=\"_blank\" href=https://colab.research.google.com/notebooks/data_table.ipynb>data table notebook</a>'\n",
              "            + ' to learn more about interactive tables.';\n",
              "          element.innerHTML = '';\n",
              "          dataTable['output_type'] = 'display_data';\n",
              "          await google.colab.output.renderOutput(dataTable, element);\n",
              "          const docLink = document.createElement('div');\n",
              "          docLink.innerHTML = docLinkHtml;\n",
              "          element.appendChild(docLink);\n",
              "        }\n",
              "      </script>\n",
              "    </div>\n",
              "  </div>\n",
              "  "
            ]
          },
          "metadata": {},
          "execution_count": 50
        }
      ]
    },
    {
      "cell_type": "code",
      "source": [
        "kmf = KaplanMeierFitter()\n",
        "kmf.fit(durations =  data_male.los, event_observed = data_male['event'], label='male')\n",
        "ax = kmf.plot_survival_function()\n",
        "\n",
        "kmf.fit(durations =  data_female.los, event_observed = data_female['event'], label='female')\n",
        "ax = kmf.plot_survival_function(ax =ax)"
      ],
      "metadata": {
        "colab": {
          "base_uri": "https://localhost:8080/",
          "height": 279
        },
        "id": "D_QMVZPyBq0e",
        "outputId": "d1f88b49-1d65-407d-b580-05f831f13273"
      },
      "execution_count": 51,
      "outputs": [
        {
          "output_type": "display_data",
          "data": {
            "text/plain": [
              "<Figure size 432x288 with 1 Axes>"
            ],
            "image/png": "[encoded data removed]"
          },
          "metadata": {
            "needs_background": "light"
          }
        }
      ]
    },
    {
      "cell_type": "code",
      "source": [
        "data_cvd_0 = data.loc[data[\"cvd\"]==0]\n",
        "data_cvd_1 = data[data[\"cvd\"]==1]"
      ],
      "metadata": {
        "id": "O3iTvbXYDR3Q"
      },
      "execution_count": 52,
      "outputs": []
    },
    {
      "cell_type": "code",
      "source": [
        "kmf = KaplanMeierFitter()\n",
        "kmf.fit(durations =  data_cvd_0.los, event_observed = data_cvd_0['event'], label='cvd_0')\n",
        "ax = kmf.plot_survival_function()\n",
        "\n",
        "kmf.fit(durations =  data_cvd_1.los, event_observed = data_cvd_1['event'], label='cvd_1')\n",
        "ax = kmf.plot_survival_function(ax =ax)"
      ],
      "metadata": {
        "colab": {
          "base_uri": "https://localhost:8080/",
          "height": 279
        },
        "id": "vlxZQdjCDi9E",
        "outputId": "37c2b2ed-3a61-45d6-e79e-3ad7b8583f30"
      },
      "execution_count": 53,
      "outputs": [
        {
          "output_type": "display_data",
          "data": {
            "text/plain": [
              "<Figure size 432x288 with 1 Axes>"
            ],
            "image/png": "[encoded data removed]"
          },
          "metadata": {
            "needs_background": "light"
          }
        }
      ]
    },
    {
      "cell_type": "code",
      "source": [
        "data_miord_0 = data.loc[data[\"miord\"]==0]\n",
        "data_miord_1 = data[data[\"miord\"]==1]"
      ],
      "metadata": {
        "id": "jAi75EKdDtz-"
      },
      "execution_count": 54,
      "outputs": []
    },
    {
      "cell_type": "code",
      "source": [
        "kmf = KaplanMeierFitter()\n",
        "kmf.fit(durations =  data_miord_0.los, event_observed = data_miord_0['event'], label='miord_0')\n",
        "ax = kmf.plot_survival_function()\n",
        "\n",
        "kmf.fit(durations =  data_miord_1.los, event_observed = data_miord_1['event'], label='miord_1')\n",
        "ax = kmf.plot_survival_function(ax =ax)"
      ],
      "metadata": {
        "colab": {
          "base_uri": "https://localhost:8080/",
          "height": 279
        },
        "id": "KZmyEqAyDu1M",
        "outputId": "8dd8eb93-443f-4743-91c0-bbd0f703863d"
      },
      "execution_count": 55,
      "outputs": [
        {
          "output_type": "display_data",
          "data": {
            "text/plain": [
              "<Figure size 432x288 with 1 Axes>"
            ],
            "image/png": "[encoded data removed]"
          },
          "metadata": {
            "needs_background": "light"
          }
        }
      ]
    },
    {
      "cell_type": "code",
      "source": [
        "data_av3_0 = data.loc[data[\"av3\"]==0]\n",
        "data_av3_1 = data[data[\"av3\"]==1]"
      ],
      "metadata": {
        "id": "Pb4WrIctEBHM"
      },
      "execution_count": 56,
      "outputs": []
    },
    {
      "cell_type": "code",
      "source": [
        "kmf = KaplanMeierFitter()\n",
        "kmf.fit(durations =  data_av3_0.los, event_observed = data_av3_0['event'], label='av3_0')\n",
        "ax = kmf.plot_survival_function()\n",
        "\n",
        "kmf.fit(durations =  data_av3_1.los, event_observed = data_av3_1['event'], label='av3_1')\n",
        "ax = kmf.plot_survival_function(ax =ax)"
      ],
      "metadata": {
        "colab": {
          "base_uri": "https://localhost:8080/",
          "height": 279
        },
        "id": "UtVvtcqFEBzb",
        "outputId": "a29829c0-ccfe-4fc4-c413-a52cd7d13eb8"
      },
      "execution_count": 57,
      "outputs": [
        {
          "output_type": "display_data",
          "data": {
            "text/plain": [
              "<Figure size 432x288 with 1 Axes>"
            ],
            "image/png": "[encoded data removed]"
          },
          "metadata": {
            "needs_background": "light"
          }
        }
      ]
    },
    {
      "cell_type": "code",
      "source": [
        "data_age_40 = data.loc[(data[\"age\"]>=40) & (data[\"age\"]< 50)]\n",
        "data_age_50 = data.loc[(data[\"age\"]>=50) & (data[\"age\"]< 60)]\n",
        "data_age_60 = data.loc[(data[\"age\"]>=60) & (data[\"age\"]< 70)]\n",
        "data_age_70 = data.loc[(data[\"age\"]>=70) & (data[\"age\"]< 80)]\n",
        "data_age_80 = data.loc[data[\"age\"]>=80]"
      ],
      "metadata": {
        "id": "5cgA-d-2H_2U"
      },
      "execution_count": 61,
      "outputs": []
    },
    {
      "cell_type": "code",
      "source": [
        "kmf = KaplanMeierFitter()\n",
        "kmf.fit(durations =  data_age_40.los, event_observed = data_age_40['event'], label='age>=40')\n",
        "ax = kmf.plot_survival_function()\n",
        "\n",
        "kmf.fit(durations =  data_age_50.los, event_observed = data_age_50['event'], label='age>=50')\n",
        "ax = kmf.plot_survival_function(ax =ax)\n",
        "\n",
        "kmf.fit(durations =  data_age_60.los, event_observed = data_age_60['event'], label='age>=60')\n",
        "ax = kmf.plot_survival_function(ax =ax)\n",
        "\n",
        "kmf.fit(durations =  data_age_70.los, event_observed = data_age_70['event'], label='age>=70')\n",
        "ax = kmf.plot_survival_function(ax =ax)\n",
        "\n",
        "kmf.fit(durations =  data_age_80.los, event_observed = data_age_80['event'], label='age>=80')\n",
        "ax = kmf.plot_survival_function(ax =ax)"
      ],
      "metadata": {
        "colab": {
          "base_uri": "https://localhost:8080/",
          "height": 279
        },
        "id": "CE3KI1-YIsAc",
        "outputId": "a5602940-905f-4888-d4e1-38fc923bebf4"
      },
      "execution_count": 62,
      "outputs": [
        {
          "output_type": "display_data",
          "data": {
            "text/plain": [
              "<Figure size 432x288 with 1 Axes>"
            ],
            "image/png": "[encoded data removed]"
          },
          "metadata": {
            "needs_background": "light"
          }
        }
      ]
    }
  ]
}